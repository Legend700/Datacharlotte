{
 "cells": [
  {
   "cell_type": "markdown",
   "id": "f3872c47",
   "metadata": {},
   "source": [
    "# Mapping the Musical Landscape: A Study of Clusters in Apple Music Data"
   ]
  },
  {
   "cell_type": "markdown",
   "id": "785b9f0e",
   "metadata": {},
   "source": [
    "## Introduction\n",
    "Music streaming platforms like Apple Music have transformed how we experience music. This project explores clustering songs from a user's Apple Music library based on metadata to uncover listening patterns."
   ]
  },
  {
   "cell_type": "markdown",
   "id": "c76f5fa4",
   "metadata": {},
   "source": [
    "### Core Questions\n",
    "1. Can metadata-based clustering reveal distinctive moods or styles?\n",
    "2. Do clusters reflect non-traditional categorizations?\n",
    "3. Can these insights improve recommendation systems?"
   ]
  },
  {
   "cell_type": "markdown",
   "id": "f21af41c",
   "metadata": {},
   "source": [
    "## Understanding Clustering\n",
    "K-Means clustering is used to group similar songs. It assigns songs to clusters based on metadata like genre, release year, and duration."
   ]
  },
  {
   "cell_type": "markdown",
   "id": "09c9f628",
   "metadata": {},
   "source": [
    "## The Dataset\n",
    "The dataset includes:\n",
    "- track_name\n",
    "- artist\n",
    "- album\n",
    "- genre\n",
    "- release_date\n",
    "- duration_ms\n",
    "- track_number"
   ]
  },
  {
   "cell_type": "code",
   "execution_count": null,
   "id": "441f95c5",
   "metadata": {},
   "outputs": [],
   "source": [
    "import pandas as pd\n",
    "import matplotlib.pyplot as plt\n",
    "import seaborn as sns\n",
    "\n",
    "# Example DataFrame setup\n",
    "df = pd.read_csv('your_apple_music_dataset.csv')\n",
    "df['release_year'] = pd.to_datetime(df['release_date']).dt.year\n",
    "\n",
    "num_features = ['duration_ms', 'track_number', 'release_year']\n",
    "\n",
    "plt.figure(figsize=(15, 5))\n",
    "for i, feature in enumerate(num_features):\n",
    "    plt.subplot(1, 3, i + 1)\n",
    "    sns.histplot(df[feature], kde=True)\n",
    "    plt.title(f'Distribution of {feature}')\n",
    "plt.tight_layout()\n",
    "plt.show()"
   ]
  },
  {
   "cell_type": "code",
   "execution_count": null,
   "id": "0e979f55",
   "metadata": {},
   "outputs": [],
   "source": [
    "plt.figure(figsize=(10, 6))\n",
    "sns.countplot(y='genre', data=df, order=df['genre'].value_counts().head(10).index)\n",
    "plt.title('Top 10 Genres')\n",
    "plt.show()"
   ]
  },
  {
   "cell_type": "code",
   "execution_count": null,
   "id": "34bc9f14",
   "metadata": {},
   "outputs": [],
   "source": [
    "from sklearn.preprocessing import StandardScaler\n",
    "import numpy as np\n",
    "\n",
    "# Clean data\n",
    "df_clean = df.dropna()\n",
    "X_num = df_clean[['duration_ms', 'track_number', 'release_year']]\n",
    "X_cat = pd.get_dummies(df_clean['genre'])\n",
    "\n",
    "scaler = StandardScaler()\n",
    "X_scaled = scaler.fit_transform(X_num)\n",
    "\n",
    "X = np.concatenate([X_scaled, X_cat], axis=1)"
   ]
  },
  {
   "cell_type": "code",
   "execution_count": null,
   "id": "d6f6ae19",
   "metadata": {},
   "outputs": [],
   "source": [
    "from sklearn.cluster import KMeans\n",
    "\n",
    "inertia = []\n",
    "for k in range(1, 11):\n",
    "    model = KMeans(n_clusters=k, random_state=42)\n",
    "    model.fit(X)\n",
    "    inertia.append(model.inertia_)\n",
    "\n",
    "plt.figure(figsize=(8, 5))\n",
    "plt.plot(range(1, 11), inertia, marker='o')\n",
    "plt.title('Elbow Method for Optimal k')\n",
    "plt.xlabel('Number of clusters')\n",
    "plt.ylabel('Inertia')\n",
    "plt.show()"
   ]
  },
  {
   "cell_type": "code",
   "execution_count": null,
   "id": "89ef6032",
   "metadata": {},
   "outputs": [],
   "source": [
    "from sklearn.decomposition import PCA\n",
    "\n",
    "kmeans = KMeans(n_clusters=4, random_state=42)\n",
    "labels = kmeans.fit_predict(X)\n",
    "\n",
    "pca = PCA(n_components=2)\n",
    "pca_result = pca.fit_transform(X)\n",
    "\n",
    "df_clean['cluster'] = labels\n",
    "df_clean['PC1'] = pca_result[:, 0]\n",
    "df_clean['PC2'] = pca_result[:, 1]\n",
    "\n",
    "plt.figure(figsize=(8, 6))\n",
    "sns.scatterplot(x='PC1', y='PC2', hue='cluster', data=df_clean, palette='Set2')\n",
    "plt.title('K-Means Clustering (PCA)')\n",
    "plt.show()"
   ]
  },
  {
   "cell_type": "code",
   "execution_count": null,
   "id": "77e4bd5f",
   "metadata": {},
   "outputs": [],
   "source": [
    "cluster_means = df_clean.groupby('cluster')[['duration_ms', 'track_number', 'release_year']].mean()\n",
    "print(cluster_means)\n",
    "\n",
    "cluster_means.plot(kind='bar', figsize=(10, 6))\n",
    "plt.title('Average Feature Values per Cluster')\n",
    "plt.xlabel('Cluster')\n",
    "plt.ylabel('Average Value')\n",
    "plt.xticks(rotation=0)\n",
    "plt.tight_layout()\n",
    "plt.show()"
   ]
  },
  {
   "cell_type": "markdown",
   "id": "b153c9f7",
   "metadata": {},
   "source": [
    "## Conclusion\n",
    "Metadata-based clustering, even without audio features, reveals valuable patterns in music preference. Future work could integrate external APIs for deeper insights."
   ]
  }
 ],
 "metadata": {},
 "nbformat": 4,
 "nbformat_minor": 5
}
