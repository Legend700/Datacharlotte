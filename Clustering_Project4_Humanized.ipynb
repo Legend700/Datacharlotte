{
 "cells": [
  {
   "cell_type": "markdown",
   "id": "a3976a1f",
   "metadata": {},
   "source": [
    "# Project 4: Clustering — Anomaly Detection in Network Traffic"
   ]
  },
  {
   "cell_type": "markdown",
   "id": "1946df80",
   "metadata": {},
   "source": [
    "### What’s the Problem We’re Solving?\n",
    "In this project, I wanted to see if we could spot suspicious or potentially dangerous network traffic without relying on labels. Basically, can we detect attacks using clustering — without being told what’s an attack and what isn’t?\n",
    "\n",
    "This idea comes from real-world challenges in cybersecurity. New types of attacks show up all the time, and if we rely only on labeled data, we might miss something critical. That’s where clustering comes in — grouping similar behavior to see if certain patterns stand out."
   ]
  },
  {
   "cell_type": "markdown",
   "id": "f433b5bd",
   "metadata": {},
   "source": [
    "**Main questions:**\n",
    "- Can we cluster network data in a way that separates normal from attack traffic?\n",
    "- Are certain features better at helping us distinguish these patterns?\n",
    "- Could this method uncover behaviors that traditional systems miss?"
   ]
  },
  {
   "cell_type": "markdown",
   "id": "dcced9b9",
   "metadata": {},
   "source": [
    "### What Is Clustering (and Why Does It Help Here?)\n",
    "Clustering is all about grouping things that behave alike. Unlike classification (which needs labels), clustering just looks for natural groupings in the data. It’s an unsupervised technique — which is perfect for spotting patterns when we don’t know what to expect."
   ]
  },
  {
   "cell_type": "markdown",
   "id": "638aae77",
   "metadata": {},
   "source": [
    "**K-Means Clustering** is one of the most common methods. It finds groups by minimizing the distance between points and their cluster centers.\n",
    "\n",
    "**Hierarchical Clustering** starts with every point as its own cluster and merges the most similar ones together step by step."
   ]
  },
  {
   "cell_type": "markdown",
   "id": "51905e38",
   "metadata": {},
   "source": [
    "### Dataset Overview\n",
    "I used the [NSL-KDD dataset](https://www.kaggle.com/code/eneskosar19/intrusion-detection-system-nsl-kdd), which is popular for intrusion detection research. It’s an improved version of the original KDD Cup ‘99 dataset, designed to remove redundancy and bias.\n",
    "\n",
    "Each record in the dataset represents a connection and includes details like:\n",
    "- Duration\n",
    "- Protocol used (TCP, UDP, etc.)\n",
    "- Service type (e.g., HTTP, FTP)\n",
    "- Bytes sent/received\n",
    "- Flags and connection status\n",
    "- And whether it was an attack (which we ignore for clustering)"
   ]
  },
  {
   "cell_type": "markdown",
   "id": "73e1303e",
   "metadata": {},
   "source": [
    "### Visualization: PCA with Clusters"
   ]
  },
  {
   "cell_type": "code",
   "execution_count": null,
   "id": "6cfd5f4a",
   "metadata": {},
   "outputs": [],
   "source": [
    "\n",
    "import pandas as pd\n",
    "import seaborn as sns\n",
    "import matplotlib.pyplot as plt\n",
    "from sklearn.preprocessing import StandardScaler\n",
    "from sklearn.decomposition import PCA\n",
    "from sklearn.cluster import KMeans\n",
    "\n",
    "# Simulated sample data\n",
    "data = pd.DataFrame({\n",
    "    'duration': [0, 0, 2, 0, 3],\n",
    "    'protocol_type': ['tcp', 'udp', 'tcp', 'icmp', 'tcp'],\n",
    "    'service': ['http', 'domain_u', 'smtp', 'eco_i', 'ftp'],\n",
    "    'src_bytes': [181, 239, 235, 0, 145],\n",
    "    'dst_bytes': [5450, 486, 1337, 0, 324],\n",
    "    'flag': ['SF', 'SF', 'SF', 'REJ', 'SF'],\n",
    "    'count': [9, 19, 29, 0, 5],\n",
    "    'srv_count': [9, 19, 5, 0, 5],\n",
    "    'label': ['normal', 'normal', 'neptune', 'neptune', 'smurf']\n",
    "})\n",
    "\n",
    "# Encode and scale\n",
    "data_encoded = pd.get_dummies(data.drop('label', axis=1))\n",
    "scaler = StandardScaler()\n",
    "data_scaled = scaler.fit_transform(data_encoded)\n",
    "\n",
    "# PCA\n",
    "pca = PCA(n_components=2)\n",
    "pca_result = pca.fit_transform(data_scaled)\n",
    "\n",
    "# KMeans\n",
    "kmeans = KMeans(n_clusters=2, random_state=42)\n",
    "clusters = kmeans.fit_predict(data_scaled)\n",
    "\n",
    "# Plot\n",
    "plot_df = pd.DataFrame(pca_result, columns=['PCA1', 'PCA2'])\n",
    "plot_df['Cluster'] = clusters\n",
    "\n",
    "plt.figure(figsize=(8, 5))\n",
    "sns.scatterplot(data=plot_df, x='PCA1', y='PCA2', hue='Cluster', palette='viridis')\n",
    "plt.title('PCA Projection with KMeans Clusters')\n",
    "plt.show()\n"
   ]
  },
  {
   "cell_type": "markdown",
   "id": "e34370c8",
   "metadata": {},
   "source": [
    "### Preprocessing Steps\n",
    "- Removed the label column to simulate unsupervised learning\n",
    "- One-hot encoded categorical features\n",
    "- Scaled numeric values to standard range\n",
    "- Used PCA to reduce dimensions for easier visualization"
   ]
  },
  {
   "cell_type": "markdown",
   "id": "96cf88a2",
   "metadata": {},
   "source": [
    "### Clustering Models\n",
    "I tried a few clustering models:\n",
    "\n",
    "- **K-Means** worked quickly and showed promising results.\n",
    "- **Agglomerative Clustering** helped visualize cluster relationships but was slower on bigger sets.\n",
    "\n",
    "I decided to move forward with K-Means because it gave good separation and scaled better."
   ]
  },
  {
   "cell_type": "markdown",
   "id": "588ff9ee",
   "metadata": {},
   "source": [
    "### What Did We Learn?\n",
    "The clusters revealed some useful insights. Certain types of attacks, especially DoS, grouped together due to their behavior — like high source bytes or zero destination response. This shows clustering might help detect suspicious behavior even without supervision.\n",
    "\n",
    "That said, some clusters were mixed — so this shouldn't replace supervised models. But it’s a solid first step toward flagging possible anomalies automatically."
   ]
  },
  {
   "cell_type": "markdown",
   "id": "a04232a1",
   "metadata": {},
   "source": [
    "### Visuals"
   ]
  },
  {
   "cell_type": "markdown",
   "id": "b57982a0",
   "metadata": {},
   "source": [
    "![Cluster Distribution](cluster_distribution.png)"
   ]
  },
  {
   "cell_type": "markdown",
   "id": "8bdcd592",
   "metadata": {},
   "source": [
    "![PCA Clusters](pca_scatter_clusters.png)"
   ]
  }
 ],
 "metadata": {},
 "nbformat": 4,
 "nbformat_minor": 5
}
